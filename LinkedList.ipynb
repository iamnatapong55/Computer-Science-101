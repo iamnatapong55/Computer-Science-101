{
 "cells": [
  {
   "cell_type": "markdown",
   "id": "f30a06d1-1843-4eae-ac57-227286992a19",
   "metadata": {},
   "source": [
    "### Develop a clear() function to the defined LinkedList Class which clears/deletes all element from the list."
   ]
  },
  {
   "cell_type": "code",
   "execution_count": 23,
   "id": "93530d5f-84f7-4614-aaa0-4e37845db390",
   "metadata": {},
   "outputs": [],
   "source": [
    "class Node: #abstraction of the node concept\n",
    "    def __init__ (self, data):  # here we are defining what happens upon instantiation of an object (self)     \n",
    "        self.item = data        # variable which passes data values\n",
    "        self.next = None # next pointer var initially pointes to None which is the terminal point\n",
    "\n",
    "class LinkedList:\n",
    "    \n",
    "    def __init__(self): ## Initially the value of the start node is null as list will be empty when first created\n",
    "        self.start_node = None ## We set the start node to points at the first node of the list\n",
    "        \n",
    "    def traverse_list(self):\n",
    "        if self.start_node is None:\n",
    "            print(\"List has no element\")\n",
    "            return\n",
    "        else:\n",
    "            n = self.start_node\n",
    "            while n is not None:\n",
    "                print(n.item , \" \")\n",
    "                n = n.next\n",
    "    \n",
    "    def search(self, x):\n",
    "        if self.start_node is None:\n",
    "            print(\"List has no elements\")\n",
    "            return\n",
    "        n = self.start_node\n",
    "        while n is not None:\n",
    "            if n.item == x:\n",
    "                print(\"Item found\")\n",
    "                return True\n",
    "            n = n.next\n",
    "        print(\"item not found\")\n",
    "        return False\n",
    "    \n",
    "    def delete_element_by_value(self, x):\n",
    "        if self.start_node is None:\n",
    "            print(\"The list has no element to delete\")\n",
    "            return\n",
    "\n",
    "    # Deleting first node \n",
    "        if self.start_node.item == x:\n",
    "            self.start_node = self.start_node.next\n",
    "            return\n",
    "\n",
    "        n = self.start_node\n",
    "        while n.next is not None:\n",
    "            if n.next.item == x:\n",
    "                break\n",
    "            n = n.next\n",
    "\n",
    "        if n.next is None:\n",
    "            print(\"item not found in the list\")\n",
    "        else:\n",
    "            n.next = n.next.next\n",
    "            \n",
    "    def head_append(self, data):\n",
    "        new_node = Node(data)\n",
    "        new_node.next = self.start_node # add the reference of start_node to the ref variable of the new node. \n",
    "        self.start_node= new_node # As new_node is now the first node, we set the value of the start_node variable to new_node.\n",
    "        \n",
    "    def create_list(self):\n",
    "        nums = int(input(\"Please enter number of nodes you wish to create: \"))\n",
    "        if nums == 0:\n",
    "            return\n",
    "        for i in range(nums):\n",
    "            value = int(input(\"Enter the value for the node:\"))\n",
    "            self.head_append(value)\n",
    "\n",
    "    def insert_at_index (self, index, data):\n",
    "        if index == 1:\n",
    "            new_node = Node(data)\n",
    "            new_node.next = self.start_node\n",
    "            self.start_node = new_node\n",
    "        i = 1\n",
    "        n = self.start_node\n",
    "        while i < index-1 and n is not None:\n",
    "            n = n.next\n",
    "            i = i+1\n",
    "        if n is None:\n",
    "            print(\"Index out of bound\")\n",
    "        else: \n",
    "            new_node = Node(data)\n",
    "            new_node.next = n.next\n",
    "            n.next = new_node\n",
    "            \n",
    "    def get_count(self):\n",
    "        if self.start_node is None:\n",
    "            return 0;\n",
    "        n = self.start_node\n",
    "        count = 0;\n",
    "        while n is not None:\n",
    "            count = count + 1\n",
    "            n = n.next\n",
    "        return count \n",
    "        \n",
    "    # Develop a clear() function to the above defined LinkedList Class which clears/deletes all element from the list.\n",
    "    def clear(self):\n",
    "        if self.start_node is None:\n",
    "            print(\"List has no element to clear\")\n",
    "            return\n",
    "        self.start_node = None\n",
    "        print(\"List has been cleared\")\n",
    "        "
   ]
  },
  {
   "cell_type": "markdown",
   "id": "dc95bbc0-0165-46e8-b149-8de7c985ee69",
   "metadata": {},
   "source": [
    "### Demonstrate that it works."
   ]
  },
  {
   "cell_type": "code",
   "execution_count": 26,
   "id": "2d625e38-dbaf-4d0d-b88f-379c65bb94c6",
   "metadata": {},
   "outputs": [],
   "source": [
    "# Demonstration\n",
    "hw1 = LinkedList()"
   ]
  },
  {
   "cell_type": "code",
   "execution_count": 28,
   "id": "fe2fec40-76b2-424f-b382-810958e73cf5",
   "metadata": {},
   "outputs": [
    {
     "name": "stdout",
     "output_type": "stream",
     "text": [
      "List has no element to clear\n"
     ]
    }
   ],
   "source": [
    "# Before adding elements to the list\n",
    "hw1.clear()"
   ]
  },
  {
   "cell_type": "code",
   "execution_count": 30,
   "id": "cb9e897d-96cf-4030-a716-fc1ff6c03c67",
   "metadata": {},
   "outputs": [],
   "source": [
    "# Adding elements to the list\n",
    "hw1.head_append(\"student1\")\n",
    "hw1.head_append(\"student2\")\n",
    "hw1.head_append(\"student3\")\n",
    "hw1.head_append(\"student4\")\n",
    "hw1.head_append(\"student5\")"
   ]
  },
  {
   "cell_type": "code",
   "execution_count": 32,
   "id": "634e306a-0d11-42b3-ba43-4a17ab0bfdb6",
   "metadata": {},
   "outputs": [
    {
     "name": "stdout",
     "output_type": "stream",
     "text": [
      "student5  \n",
      "student4  \n",
      "student3  \n",
      "student2  \n",
      "student1  \n"
     ]
    }
   ],
   "source": [
    "# List before clearing\n",
    "hw1.traverse_list()"
   ]
  },
  {
   "cell_type": "code",
   "execution_count": 34,
   "id": "e4a5b6ac-4ba9-4516-89de-f0f637a502c6",
   "metadata": {},
   "outputs": [
    {
     "name": "stdout",
     "output_type": "stream",
     "text": [
      "List has been cleared\n"
     ]
    }
   ],
   "source": [
    "# Clearing the list\n",
    "hw1.clear()"
   ]
  },
  {
   "cell_type": "code",
   "execution_count": 36,
   "id": "b6dbd063-a83b-44e1-917d-f6bdee87b8fa",
   "metadata": {},
   "outputs": [
    {
     "name": "stdout",
     "output_type": "stream",
     "text": [
      "List has no element\n"
     ]
    }
   ],
   "source": [
    "# List after clearing\n",
    "hw1.traverse_list()"
   ]
  },
  {
   "cell_type": "markdown",
   "id": "b97cbe33-e63b-406c-beb9-0f40b7d4c9b9",
   "metadata": {},
   "source": [
    "### Explain time complexity of the clear associated method"
   ]
  },
  {
   "cell_type": "markdown",
   "id": "e09cfd61-19d1-4eb0-bf2e-94fff0d57e6f",
   "metadata": {},
   "source": [
    "The time complexity of the clear() method is O(1).\n",
    "\n",
    "Explanation: The clear() method only involves resetting the reference of the start_node to None, which is a constant-time operation. No matter how many elements are in the list, the operation is completed in the same amount of time. There’s no need to iterate through the list or perform any complex operations, so the time complexity is O(1)."
   ]
  },
  {
   "cell_type": "code",
   "execution_count": 40,
   "id": "3b6375a3-600b-4fa7-ac28-0cb674466731",
   "metadata": {},
   "outputs": [],
   "source": [
    "# Thank you!"
   ]
  },
  {
   "cell_type": "code",
   "execution_count": null,
   "id": "1bd3924d-491f-4133-8103-f1bc2c1a0e10",
   "metadata": {},
   "outputs": [],
   "source": []
  }
 ],
 "metadata": {
  "kernelspec": {
   "display_name": "Python 3 (ipykernel)",
   "language": "python",
   "name": "python3"
  },
  "language_info": {
   "codemirror_mode": {
    "name": "ipython",
    "version": 3
   },
   "file_extension": ".py",
   "mimetype": "text/x-python",
   "name": "python",
   "nbconvert_exporter": "python",
   "pygments_lexer": "ipython3",
   "version": "3.12.4"
  }
 },
 "nbformat": 4,
 "nbformat_minor": 5
}
