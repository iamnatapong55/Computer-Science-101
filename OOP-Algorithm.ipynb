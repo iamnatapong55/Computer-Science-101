{
 "cells": [
  {
   "cell_type": "markdown",
   "id": "feb4ecbd-6eb4-45ae-828b-429c7a1a5550",
   "metadata": {},
   "source": [
    "### Develop an algorithm which locates/finds the second-to-last node in a singly linked list, the last node has a next reference referring to None.Test the solution by creating a singly linked list object and returning the value and index of the second to last node. This implementation should have a linear time complexity. Also describe a constant time solution when using a doubly linked list."
   ]
  },
  {
   "cell_type": "code",
   "execution_count": 210,
   "id": "ee7ff26b-f9cd-474a-a69a-6dafb1c46f54",
   "metadata": {},
   "outputs": [],
   "source": [
    "class Node:\n",
    "    # Abstraction of the node concept\n",
    "    def __init__(self, data):\n",
    "        self.item = data                 # Store the data value\n",
    "        self.next = None                 # Initially points to None, indicating the end of the list\n",
    "\n",
    "class SinglyLinkedList:\n",
    "    def __init__(self):\n",
    "        self.start_node = None           # Initially, the list is empty\n",
    "\n",
    "    def traverse_list(self):\n",
    "        # Traverse and print all elements in the list\n",
    "        if self.start_node is None:\n",
    "            print(\"List has no element\")\n",
    "            return\n",
    "        else:\n",
    "            n = self.start_node\n",
    "            while n is not None:\n",
    "                print(n.item, \" \")\n",
    "                n = n.next\n",
    "\n",
    "    def head_append(self, data):\n",
    "        # Append a node at the beginning of the list\n",
    "        new_node = Node(data)\n",
    "        new_node.next = self.start_node   # Point the new node's next pointer to the start node\n",
    "        self.start_node = new_node        # Update start_node to the new head\n",
    "\n",
    "    def find_second_to_last(self):\n",
    "        # Function to find the second-to-last node in the list\n",
    "        if self.start_node is None or self.start_node.next is None:\n",
    "            return None, -1               # Return None if the list is empty or has only one node\n",
    "\n",
    "        previous = None                   # To track the previous node\n",
    "        current = self.start_node         # Start with the first node\n",
    "        index = 0                         # Index to keep track of position in the list\n",
    "\n",
    "        while current.next is not None:\n",
    "            previous = current            # Move prev to the current node\n",
    "            current = current.next        # Move curr to the next node\n",
    "            index += 1                    # Increment index\n",
    "\n",
    "        return previous.item, index - 1   # Return the value and index of the second-to-last node\n"
   ]
  },
  {
   "cell_type": "markdown",
   "id": "cbd84139-c9df-445e-87b4-d01cfdb3c019",
   "metadata": {},
   "source": [
    "### Explaination:\n",
    "### Finding the Last Node:\n",
    "\n",
    "#### * The algorithm enters a loop that continues until current.next is None. This condition is crucial because it identifies the last node in the list.\n",
    "#### * During each iteration of the loop: \n",
    "####    1) previous is updated to the current node (current), so that it always points to the node before the one current is pointing to.\n",
    "####    2) current is then moved to the next node in the list (current.next).\n",
    "### Exiting the Loop:\n",
    "\n",
    "#### * The loop exits when current.next is None, meaning that current is now pointing to the last node in the list.\n",
    "#### * At this point, previous is pointing to the second-to-last node because it was updated in the previous iteration of the loop.\n",
    "#### * Return the Result:the algorithm returns the value of the second-to-last node (previous.item) and its index (index - 1)."
   ]
  },
  {
   "cell_type": "code",
   "execution_count": 212,
   "id": "a267280c-a7ec-4487-8401-0ab97095fcdd",
   "metadata": {},
   "outputs": [],
   "source": [
    "# Test the solution\n",
    "midterm = SinglyLinkedList()"
   ]
  },
  {
   "cell_type": "code",
   "execution_count": 214,
   "id": "fb412f38-d018-4c7a-a268-84d021516d58",
   "metadata": {},
   "outputs": [],
   "source": [
    "# Append elements to the linked list\n",
    "studentIDs = ['ID1', 'ID2', 'ID3', 'ID4', 'ID5']\n",
    "for ID in studentIDs:\n",
    "    midterm.head_append(ID)"
   ]
  },
  {
   "cell_type": "code",
   "execution_count": 216,
   "id": "7c3e4e3b-aae7-4b9a-8aef-b7e644c953dc",
   "metadata": {},
   "outputs": [
    {
     "name": "stdout",
     "output_type": "stream",
     "text": [
      "ID5  \n",
      "ID4  \n",
      "ID3  \n",
      "ID2  \n",
      "ID1  \n"
     ]
    }
   ],
   "source": [
    "# Traverse the list\n",
    "midterm.traverse_list()"
   ]
  },
  {
   "cell_type": "code",
   "execution_count": 218,
   "id": "404b3e4d-0993-445b-8755-742d5dbf206b",
   "metadata": {},
   "outputs": [
    {
     "name": "stdout",
     "output_type": "stream",
     "text": [
      "The second-to-last node's value is ID2 at index 3.\n"
     ]
    }
   ],
   "source": [
    "# Test the solution by creating a singly linked list object and returning the value and index of the second to last node\n",
    "second_to_last_value, index = midterm.find_second_to_last()\n",
    "print(f\"The second-to-last node's value is {second_to_last_value} at index {index}.\")"
   ]
  },
  {
   "cell_type": "markdown",
   "id": "91f0a97e-1a21-4aae-bc49-5ff19dacc25e",
   "metadata": {},
   "source": [
    "## How the Provided Algorithm Achieves O(n) Time Complexity:\n",
    "### * The find_second_to_last method begins by checking for edge cases (empty list or single-node list), which are O(1) operations.\n",
    "### * The core of the algorithm is a while loop that iterates through the linked list:\n",
    "#### 1) The loop continues until it reaches the last node (current.next is None).\n",
    "#### 2) During each iteration, it advances the current pointer to the next node and updates the previous pointer to the current node.\n",
    "#### 3) This loop visits each node in the list exactly once, making the number of operations proportional to the number of nodes n.\n",
    "#### Since there’s no nested loop or recursion, the time complexity of the entire algorithm is O(n)."
   ]
  },
  {
   "cell_type": "markdown",
   "id": "a775ca57-cb93-406c-83a9-9fe5c11cb349",
   "metadata": {},
   "source": [
    "## How a Doubly Linked List Facilitates O(1) Time Complexity:\n",
    "### In a doubly linked list, each node has two pointers:\n",
    "#### 1) next: Points to the next node in the list (just like in a singly linked list).\n",
    "#### 2) prev: Points to the previous node in the list.\n",
    "### The last node in a doubly linked list, just like in a singly linked list, has its next pointer set to None.\n",
    "### However, the key difference is that from the last node, we can immediately access the second-to-last node by using the prev pointer."
   ]
  },
  {
   "cell_type": "markdown",
   "id": "1efa2a79-1dee-4073-b33d-c8292c4b6136",
   "metadata": {},
   "source": []
  },
  {
   "cell_type": "markdown",
   "id": "bf60baa5-ac88-4c48-b7eb-3f4b1881ca26",
   "metadata": {},
   "source": [
    "### Develop a special case of the Stack2 Class data structure whereby the pop function always pops the second to the top node. So basically, the top node always stays the same and the node lying under it is always popped out. Also demonstrate/test your solution. "
   ]
  },
  {
   "cell_type": "code",
   "execution_count": 224,
   "id": "e41cb37f-f4bc-4e6a-bff2-8d2bd591f9af",
   "metadata": {},
   "outputs": [],
   "source": [
    "class Node:\n",
    "    def __init__(self, data=None):\n",
    "        self.data = data\n",
    "        self.next = None\n",
    "\n",
    "class Stack2:\n",
    "    def __init__(self):\n",
    "        self.top = None\n",
    "        self.size = 0\n",
    "\n",
    "    def push(self, data):\n",
    "        node = Node(data)\n",
    "        if self.top:                          # if the stack is not empty\n",
    "            node.next = self.top              # point the new node's next pointer to the current top element\n",
    "        self.top = node                       # update the top to be the new node\n",
    "        self.size += 1\n",
    "\n",
    "    def pop_second(self):\n",
    "        if self.top and self.top.next:        # Ensure there are at least two nodes in the stack\n",
    "            second_node = self.top.next\n",
    "            self.top.next = second_node.next  # Bypass the second node\n",
    "            self.size -= 1\n",
    "            return second_node.data\n",
    "        else:\n",
    "            return None                       # If there aren't at least two nodes, return None\n",
    "\n",
    "    def display(self):                        # This method prints all nodes from the top to the bottom of the stack\n",
    "        current = self.top\n",
    "        while current:\n",
    "            print(current.data, end=\" -> \" if current.next else \"\")\n",
    "            current = current.next\n",
    "        print()\n"
   ]
  },
  {
   "cell_type": "markdown",
   "id": "40ca2db3-192d-495a-87ed-2f8a35e45f97",
   "metadata": {},
   "source": [
    "### Explaination: pop_second():\n",
    "\n",
    "#### * This method pops (removes) the second node in the stack, while the top node remains the same. \n",
    "#### * If there are fewer than two nodes (i.e., top is None or top.next is None), it returns None as there's no second node to pop.\n",
    "#### * Otherwise, the second node (i.e., self.top.next) is removed by updating self.top.next to point to the third node (if it exists), effectively \"bypassing\" the second node. \n",
    "#### * The data from the removed second node is returned, and the size is decremented by 1."
   ]
  },
  {
   "cell_type": "code",
   "execution_count": 226,
   "id": "7c83c78d-4711-4a6d-811c-1d3882f5dfde",
   "metadata": {},
   "outputs": [],
   "source": [
    "# Testing the special Stack2 class\n",
    "midterm2 = Stack2()\n",
    "midterm2.push('ID1')\n",
    "midterm2.push('ID2')\n",
    "midterm2.push('ID3')\n",
    "midterm2.push('ID4')\n",
    "midterm2.push('ID5')"
   ]
  },
  {
   "cell_type": "code",
   "execution_count": 228,
   "id": "6d6d9615-bad6-405a-bf0d-09423cac7ddc",
   "metadata": {},
   "outputs": [
    {
     "name": "stdout",
     "output_type": "stream",
     "text": [
      "Initial stack:\n",
      "ID5 -> ID4 -> ID3 -> ID2 -> ID1\n"
     ]
    }
   ],
   "source": [
    "print(\"Initial stack:\")\n",
    "midterm2.display()"
   ]
  },
  {
   "cell_type": "code",
   "execution_count": 230,
   "id": "faf64b03-2637-45ef-b493-a0cb47afc83a",
   "metadata": {},
   "outputs": [
    {
     "name": "stdout",
     "output_type": "stream",
     "text": [
      "\n",
      "Popping the second-to-the-top element:\n",
      "Popped value: ID4\n"
     ]
    }
   ],
   "source": [
    "print(\"\\nPopping the second-to-the-top element:\")\n",
    "popped_value = midterm2.pop_second()\n",
    "print(f\"Popped value: {popped_value}\")"
   ]
  },
  {
   "cell_type": "code",
   "execution_count": 232,
   "id": "dbc5cd0b-de0b-4d92-ac5d-1de5ed5370e1",
   "metadata": {},
   "outputs": [
    {
     "name": "stdout",
     "output_type": "stream",
     "text": [
      "\n",
      "Stack after popping the second-to-the-top element:\n",
      "ID5 -> ID3 -> ID2 -> ID1\n"
     ]
    }
   ],
   "source": [
    "print(\"\\nStack after popping the second-to-the-top element:\")\n",
    "midterm2.display()"
   ]
  },
  {
   "cell_type": "markdown",
   "id": "bc0d9ea9-f3f1-4559-9ed2-2fe7e5bb9f3b",
   "metadata": {},
   "source": []
  },
  {
   "cell_type": "markdown",
   "id": "4059385b-b233-41ef-8290-7a89ec9976be",
   "metadata": {},
   "source": [
    "### Develop an algorithm which returns the count of nodes in a doubly linked list."
   ]
  },
  {
   "cell_type": "code",
   "execution_count": 234,
   "id": "389a7b6a-dd50-4ceb-922a-dd7e3e47b5c7",
   "metadata": {},
   "outputs": [],
   "source": [
    "class Node:\n",
    "    def __init__(self, data):\n",
    "        self.item = data\n",
    "        self.nref = None  # Reference to the next node\n",
    "        self.pref = None  # Reference to the previous node\n",
    "\n",
    "class DoublyLinkedList:\n",
    "    def __init__(self):\n",
    "        self.start_node = None\n",
    "\n",
    "    def head_insertion(self, data):\n",
    "        if self.start_node is None:\n",
    "            new_node = Node(data)\n",
    "            self.start_node = new_node\n",
    "            print(\"node inserted\")\n",
    "        else:    \n",
    "            new_node = Node(data)\n",
    "            new_node.nref = self.start_node\n",
    "            self.start_node.pref = new_node\n",
    "            self.start_node = new_node\n",
    "\n",
    "    # Method to count the number of nodes in the list\n",
    "    def count_nodes(self):\n",
    "        count = 0\n",
    "        current = self.start_node\n",
    "        while current:  # Traverse the list until the end\n",
    "            count += 1\n",
    "            current = current.nref\n",
    "        return count"
   ]
  },
  {
   "cell_type": "code",
   "execution_count": 236,
   "id": "4aa09f1f-560c-41ba-802f-dbad39523f98",
   "metadata": {},
   "outputs": [
    {
     "name": "stdout",
     "output_type": "stream",
     "text": [
      "Test case 1 - Count of nodes (Empty list): 0\n"
     ]
    }
   ],
   "source": [
    "# Create a doubly linked list\n",
    "midterm3 = DoublyLinkedList()\n",
    "\n",
    "# Test case 1: Empty list\n",
    "print(\"Test case 1 - Count of nodes (Empty list):\", midterm3.count_nodes())  "
   ]
  },
  {
   "cell_type": "code",
   "execution_count": 238,
   "id": "d2268f31-f0bc-4fe6-afb0-f8169c8b3b80",
   "metadata": {},
   "outputs": [
    {
     "name": "stdout",
     "output_type": "stream",
     "text": [
      "node inserted\n",
      "Test case 2 - Count of nodes (After 4 insertions): 4\n"
     ]
    }
   ],
   "source": [
    "# Insert some nodes\n",
    "midterm3.head_insertion('ID1')\n",
    "midterm3.head_insertion('ID2') \n",
    "midterm3.head_insertion('ID3')\n",
    "midterm3.head_insertion('ID4') \n",
    "\n",
    "# Test case 2: List with 4 nodes\n",
    "print(\"Test case 2 - Count of nodes (After 4 insertions):\", midterm3.count_nodes())  "
   ]
  },
  {
   "cell_type": "code",
   "execution_count": 240,
   "id": "cc309ba4-7276-48eb-9e67-dd508c4d7f7d",
   "metadata": {},
   "outputs": [
    {
     "name": "stdout",
     "output_type": "stream",
     "text": [
      "Test case 3 - Count of nodes (After 1 more insertion): 5\n"
     ]
    }
   ],
   "source": [
    "# Insert one more node\n",
    "midterm3.head_insertion('ID5')\n",
    "\n",
    "# Test case 3: List with 4 nodes\n",
    "print(\"Test case 3 - Count of nodes (After 1 more insertion):\", midterm3.count_nodes())  "
   ]
  },
  {
   "cell_type": "markdown",
   "id": "18c05a94-8fcb-4ea6-9815-b4af3cb18023",
   "metadata": {},
   "source": []
  },
  {
   "cell_type": "markdown",
   "id": "3cb95286-6a0a-4fdf-94e2-8c6c0a5b43f7",
   "metadata": {},
   "source": [
    "### Describe and develop an algorithm which swaps the positions of two contiguous/adjacent nodes in a doubly linked list and test/demonstrate the solution."
   ]
  },
  {
   "cell_type": "code",
   "execution_count": 258,
   "id": "7c79218d-2f0e-4d27-812f-4b509c13b67a",
   "metadata": {},
   "outputs": [],
   "source": [
    "class Node:\n",
    "    def __init__(self, data):\n",
    "        self.item = data\n",
    "        self.nref = None  # Reference to the next node\n",
    "        self.pref = None  # Reference to the previous node\n",
    "\n",
    "class DoublyLinkedList:\n",
    "    def __init__(self):\n",
    "        self.start_node = None\n",
    "\n",
    "    def head_insertion(self, data):\n",
    "        if self.start_node is None:\n",
    "            new_node = Node(data)\n",
    "            self.start_node = new_node\n",
    "            print(f\"Node {data} inserted\")\n",
    "        else:    \n",
    "            new_node = Node(data)\n",
    "            new_node.nref = self.start_node\n",
    "            self.start_node.pref = new_node\n",
    "            self.start_node = new_node\n",
    "            print(f\"Node {data} inserted\")\n",
    "\n",
    "    def swap_adjacent(self, node1, node2):\n",
    "        if node1.nref != node2 or node2.pref != node1:\n",
    "            print(\"Nodes are not adjacent!\")\n",
    "            return\n",
    "\n",
    "        if node1.pref:               # If node1 is not the start node, adjust the previous node's reference\n",
    "            node1.pref.nref = node2\n",
    "        else:\n",
    "            self.start_node = node2  # Update start_node if node1 is the head\n",
    "\n",
    "        if node2.nref:               # If node2 is not the last node, adjust the next node's previous reference\n",
    "            node2.nref.pref = node1\n",
    "\n",
    "                                     # Swap the references between node1 and node2\n",
    "        node1.nref = node2.nref\n",
    "        node2.pref = node1.pref\n",
    "\n",
    "        node2.nref = node1\n",
    "        node1.pref = node2\n",
    "\n",
    "    def display(self):\n",
    "        current = self.start_node\n",
    "        while current:\n",
    "            print(current.item, end=\" <-> \" if current.nref else \"\")\n",
    "            current = current.nref\n",
    "        print()"
   ]
  },
  {
   "cell_type": "markdown",
   "id": "be414379-1f2d-4ea9-ba08-b523059c18e0",
   "metadata": {},
   "source": [
    "### This tests and demonstrates all the possible results from the swap_adjacent function."
   ]
  },
  {
   "cell_type": "code",
   "execution_count": 268,
   "id": "572f0546-19bb-4b34-a4f4-321bb401e050",
   "metadata": {},
   "outputs": [],
   "source": [
    "# Test the algorithm with various cases\n",
    "midterm4 = DoublyLinkedList()"
   ]
  },
  {
   "cell_type": "code",
   "execution_count": 270,
   "id": "9e5a8105-6144-4903-83c7-c31b39d06489",
   "metadata": {},
   "outputs": [
    {
     "name": "stdout",
     "output_type": "stream",
     "text": [
      "Node ID1 inserted\n",
      "Node ID2 inserted\n",
      "Node ID3 inserted\n",
      "Node ID4 inserted\n"
     ]
    }
   ],
   "source": [
    "# Insert nodes\n",
    "midterm4.head_insertion('ID1')  # Last node in the list\n",
    "midterm4.head_insertion('ID2')\n",
    "midterm4.head_insertion('ID3')\n",
    "midterm4.head_insertion('ID4')  # Head node in the list"
   ]
  },
  {
   "cell_type": "code",
   "execution_count": 272,
   "id": "3b7274d4-0485-4521-9832-18eb07baea81",
   "metadata": {},
   "outputs": [
    {
     "name": "stdout",
     "output_type": "stream",
     "text": [
      "\n",
      "Initial list:\n",
      "ID4 <-> ID3 <-> ID2 <-> ID1\n"
     ]
    }
   ],
   "source": [
    "# 1. Initial list\n",
    "print(\"\\nInitial list:\")\n",
    "midterm4.display()"
   ]
  },
  {
   "cell_type": "code",
   "execution_count": 274,
   "id": "b8b90088-1103-400d-b758-60aad1319655",
   "metadata": {},
   "outputs": [
    {
     "name": "stdout",
     "output_type": "stream",
     "text": [
      "\n",
      "List after swapping ID3 and ID2:\n",
      "ID4 <-> ID2 <-> ID3 <-> ID1\n"
     ]
    }
   ],
   "source": [
    "# 2. Swapping adjacent nodes in the middle (ID3 and ID2)\n",
    "node1 = midterm4.start_node.nref  # Node with data ID3\n",
    "node2 = node1.nref                # Node with data ID2\n",
    "midterm4.swap_adjacent(node1, node2)\n",
    "print(\"\\nList after swapping ID3 and ID2:\")\n",
    "midterm4.display()"
   ]
  },
  {
   "cell_type": "code",
   "execution_count": 276,
   "id": "db742527-34e3-4234-91bd-15a779f63a61",
   "metadata": {},
   "outputs": [
    {
     "name": "stdout",
     "output_type": "stream",
     "text": [
      "\n",
      "List after swapping ID4 (head) and ID2:\n",
      "ID2 <-> ID4 <-> ID3 <-> ID1\n"
     ]
    }
   ],
   "source": [
    "# 3. Swapping the head node and its adjacent node (ID4 and ID2)\n",
    "node1 = midterm4.start_node        # Node with data ID4 (head)\n",
    "node2 = node1.nref                 # Node with data ID2\n",
    "midterm4.swap_adjacent(node1, node2)\n",
    "print(\"\\nList after swapping ID4 (head) and ID2:\")\n",
    "midterm4.display()"
   ]
  },
  {
   "cell_type": "code",
   "execution_count": 278,
   "id": "8f7f6fea-ad55-4bbe-8adc-5ef77e827abf",
   "metadata": {},
   "outputs": [
    {
     "name": "stdout",
     "output_type": "stream",
     "text": [
      "\n",
      "List after swapping ID3 and ID1 (last two nodes):\n",
      "ID2 <-> ID4 <-> ID1 <-> ID3\n"
     ]
    }
   ],
   "source": [
    "# 4. Swapping the last two adjacent nodes (ID3 and ID1)\n",
    "node1 = midterm4.start_node.nref.nref  # Node with data ID3\n",
    "node2 = node1.nref                     # Node with data ID1 (last)\n",
    "midterm4.swap_adjacent(node1, node2)\n",
    "print(\"\\nList after swapping ID3 and ID1 (last two nodes):\")\n",
    "midterm4.display()"
   ]
  },
  {
   "cell_type": "code",
   "execution_count": 280,
   "id": "a9c552a2-d0c6-4280-a241-41b96eb10cb2",
   "metadata": {},
   "outputs": [
    {
     "name": "stdout",
     "output_type": "stream",
     "text": [
      "Nodes are not adjacent!\n",
      "\n",
      "Attempting to swap non-adjacent nodes (ID2 and ID1):\n",
      "ID2 <-> ID4 <-> ID1 <-> ID3\n"
     ]
    }
   ],
   "source": [
    "# 5. Trying to swap non-adjacent nodes (ID2 and ID1, which are not adjacent after previous swaps)\n",
    "node1 = midterm4.start_node.nref  # Node with data ID2\n",
    "node2 = midterm4.start_node.nref.nref.nref  # Node with data ID1\n",
    "midterm4.swap_adjacent(node1, node2)\n",
    "print(\"\\nAttempting to swap non-adjacent nodes (ID2 and ID1):\")\n",
    "midterm4.display()"
   ]
  },
  {
   "cell_type": "markdown",
   "id": "74ebb7e4-fb6e-4fd9-954a-81f2a719687a",
   "metadata": {},
   "source": [
    "## Thank You!"
   ]
  },
  {
   "cell_type": "code",
   "execution_count": null,
   "id": "bf5e4f58-edb9-42ed-8bbb-fd68636ab49c",
   "metadata": {},
   "outputs": [],
   "source": []
  }
 ],
 "metadata": {
  "kernelspec": {
   "display_name": "Python 3 (ipykernel)",
   "language": "python",
   "name": "python3"
  },
  "language_info": {
   "codemirror_mode": {
    "name": "ipython",
    "version": 3
   },
   "file_extension": ".py",
   "mimetype": "text/x-python",
   "name": "python",
   "nbconvert_exporter": "python",
   "pygments_lexer": "ipython3",
   "version": "3.12.4"
  }
 },
 "nbformat": 4,
 "nbformat_minor": 5
}
