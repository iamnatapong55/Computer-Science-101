{
 "cells": [
  {
   "cell_type": "markdown",
   "id": "84a8876c-4255-444e-bcdd-a0d1881fd2de",
   "metadata": {},
   "source": [
    "## Implement a peek and size operations to the Stack2 Class"
   ]
  },
  {
   "cell_type": "code",
   "execution_count": 6,
   "id": "03263529-29fe-4cf0-97db-73230dc9352d",
   "metadata": {},
   "outputs": [],
   "source": [
    "## Start by defining a node as follows\n",
    "class Node:\n",
    "    def __init__(self, data=None):\n",
    "        self.data = data\n",
    "        self.next = None"
   ]
  },
  {
   "cell_type": "code",
   "execution_count": 8,
   "id": "6c0ca176-6f5c-4f60-bcde-c1db3310919b",
   "metadata": {},
   "outputs": [],
   "source": [
    "class Stack2:\n",
    "    def __init__(self):\n",
    "        self.top = None\n",
    "        self.size = 0\n",
    "\n",
    "# Push/append operation --> correction\n",
    "    def push(self, data):\n",
    "        node = Node(data)  # encapsulate data in node\n",
    "        if self.top:  # if the stack is not empty\n",
    "            node.next = self.top  # point the new node's next pointer to the current top element\n",
    "        self.top = node  # update the top to be the new node\n",
    "        self.size += 1  # After pushing an item we increment the stack size by 1\n",
    "\n",
    "# Pop/remove operation\n",
    "    def pop(self):\n",
    "        if self.top: # If list has elements, it would have one at the top of the stack\n",
    "            data = self.top.data\n",
    "            self.size -= 1\n",
    "            if self.top.next: # if stack is not empty then we need to make next node the top node\n",
    "                self.top = self.top.next\n",
    "            else:\n",
    "                self.top = None # Otherwise it's empty after pop operation\n",
    "            return data # returns the element\n",
    "        else:\n",
    "            return None # if list is initially empty, we cannot perform pop therefor returns None\n",
    "\n",
    "# Peek operation\n",
    "    def peek(self):\n",
    "        if self.top:  # If there is a top element, return its data\n",
    "            return self.top.data\n",
    "        else:\n",
    "            return None  # If stack is empty, return None\n",
    "\n",
    "# Size operation\n",
    "    def get_size(self):\n",
    "        return self.size  # Simply return the size of the stack        "
   ]
  },
  {
   "cell_type": "code",
   "execution_count": 10,
   "id": "3361ee66-4680-49a3-8e69-99c93e2a9d67",
   "metadata": {},
   "outputs": [],
   "source": [
    "# Create an instance of Stack2\n",
    "S2 = Stack2()\n",
    "\n",
    "# Push elements onto the stack\n",
    "S2.push(\"Hotel California\")\n",
    "S2.push(\"Iris\")\n",
    "S2.push(\"Sweet Home Alabama\")\n",
    "S2.push(\"Sweet Child of Mine\")\n",
    "S2.push(\"Amazing\")\n",
    "S2.push(\"Stairway to Heaven\")"
   ]
  },
  {
   "cell_type": "code",
   "execution_count": 12,
   "id": "efa458a5-119b-4eaf-9d2a-ab1c2956a0fb",
   "metadata": {},
   "outputs": [
    {
     "data": {
      "text/plain": [
       "'Stairway to Heaven'"
      ]
     },
     "execution_count": 12,
     "metadata": {},
     "output_type": "execute_result"
    }
   ],
   "source": [
    "S2.pop()"
   ]
  },
  {
   "cell_type": "code",
   "execution_count": 14,
   "id": "88ac0192-c9f9-474a-97d8-6519b9afeb89",
   "metadata": {},
   "outputs": [
    {
     "name": "stdout",
     "output_type": "stream",
     "text": [
      "Top element (Peek): Amazing\n"
     ]
    }
   ],
   "source": [
    "# Peek at the top element\n",
    "top_element = S2.peek()\n",
    "print(\"Top element (Peek):\", top_element)"
   ]
  },
  {
   "cell_type": "code",
   "execution_count": 16,
   "id": "cf794974-e7c6-442a-bd18-b0b7be7d5db7",
   "metadata": {},
   "outputs": [
    {
     "name": "stdout",
     "output_type": "stream",
     "text": [
      "Size of the stack: 5\n"
     ]
    }
   ],
   "source": [
    "# Get the size of the stack\n",
    "stack_size = S2.get_size()\n",
    "print(\"Size of the stack:\", stack_size)"
   ]
  },
  {
   "cell_type": "markdown",
   "id": "c5fb0684-10ba-474c-bdea-25907087ac84",
   "metadata": {},
   "source": [
    "### A stack operates on a Last-In, First-Out (LIFO) principle, so after calling the pop() function, the peek() function shows 'Amazing,' which was the last item added to the stack. The size of the stack is reduced from the initial 6 items to 5."
   ]
  },
  {
   "cell_type": "markdown",
   "id": "dd0de343-4298-4232-a962-e47ced82357b",
   "metadata": {},
   "source": [
    "## Create a function which will list the items in the Queue"
   ]
  },
  {
   "cell_type": "code",
   "execution_count": 18,
   "id": "1f8e9ad8-af98-496e-b0ba-36b5983432a7",
   "metadata": {},
   "outputs": [],
   "source": [
    "class Node(object): ## Create node class with data and next and previous pointers vars\n",
    "    def __init__(self, data=None, next=None, prev=None):\n",
    "        self.data = data\n",
    "        self.next = next\n",
    "        self.prev = prev"
   ]
  },
  {
   "cell_type": "code",
   "execution_count": 20,
   "id": "5bd5ac42-7ddd-46ff-8bc4-1ff8b0c59533",
   "metadata": {},
   "outputs": [],
   "source": [
    "class Queue: ## Create Queue class as an empty list \n",
    "    def __init__(self):\n",
    "        self.head = None\n",
    "        self.tail = None\n",
    "        self.count = 0\n",
    "\n",
    "    # Define an enqueue operation\n",
    "    def enqueue(self, data):\n",
    "        new_node = Node(data, None, None) \n",
    "        if self.head is None:# IF the list is empty then the head will become the new node \n",
    "            self.head = new_node\n",
    "            self.tail = self.head # As there is only one element then point tail to head\n",
    "        else: # if list is not empty then we point the new node's prev pointer to the tail node\n",
    "            new_node.prev = self.tail \n",
    "            self.tail.next = new_node # Then we point the the tail node's next pointer to the new node\n",
    "            self.tail = new_node\n",
    "        self.count += 1 # Then we increment Queue by 1\n",
    "        \n",
    "    # Define a dequeue operation\n",
    "    def dequeue(self):\n",
    "        current = self.head  # point current var to head of list\n",
    "        if self.count == 1:# if list only has one element \n",
    "            self.count -= 1 # decrement by 1\n",
    "            self.head = None # point head to None \n",
    "            self.tail = None # point tail to None effectively removing the element\n",
    "        elif self.count > 1: # IF Queue has more than one element\n",
    "            self.head = self.head.next # point queue's head pointer to the next element/node \n",
    "            self.head.prev = None  # point the the new head elemnt/node's previous pointer ot None\n",
    "            self.count -= 1 # decrement by 1\n",
    "            \n",
    "    # Define a function to list items in the Queue\n",
    "    def list_items(self):\n",
    "        items = []                       # Initialize an empty list to store the data of nodes\n",
    "        current = self.head              # Traverse the queue from head to tail\n",
    "        while current is not None:\n",
    "            items.append(current.data)   # Append the data of each node to the list\n",
    "            current = current.next\n",
    "        return items                     # Return the list of items"
   ]
  },
  {
   "cell_type": "code",
   "execution_count": 22,
   "id": "adfc84ea-523c-4407-ab35-e3b1087da458",
   "metadata": {},
   "outputs": [],
   "source": [
    "# Create a queue and enqueue several \"Caller\" strings\n",
    "Queue1 = Queue()\n",
    "Queue1.enqueue(\"Caller 1\")\n",
    "Queue1.enqueue(\"Caller 2\")\n",
    "Queue1.enqueue(\"Caller 3\")\n",
    "Queue1.enqueue(\"Caller 4\")\n",
    "Queue1.enqueue(\"Caller 5\")\n",
    "Queue1.enqueue(\"Caller 6\")\n",
    "Queue1.enqueue(\"Caller 7\")\n",
    "Queue1.enqueue(\"Caller 8\")"
   ]
  },
  {
   "cell_type": "code",
   "execution_count": 24,
   "id": "945e37d1-62fd-41ae-8c30-1b5f9ba18ba8",
   "metadata": {},
   "outputs": [],
   "source": [
    "# Dequeue the first element\n",
    "Queue1.dequeue()"
   ]
  },
  {
   "cell_type": "code",
   "execution_count": 26,
   "id": "7b86c8fa-30c2-4566-a94e-69788585df03",
   "metadata": {},
   "outputs": [
    {
     "data": {
      "text/plain": [
       "['Caller 2',\n",
       " 'Caller 3',\n",
       " 'Caller 4',\n",
       " 'Caller 5',\n",
       " 'Caller 6',\n",
       " 'Caller 7',\n",
       " 'Caller 8']"
      ]
     },
     "execution_count": 26,
     "metadata": {},
     "output_type": "execute_result"
    }
   ],
   "source": [
    "# List the items currently in the queue\n",
    "Queue1.list_items()"
   ]
  },
  {
   "cell_type": "markdown",
   "id": "309780da-65fd-4206-ba16-3467d54faab1",
   "metadata": {},
   "source": [
    "### Since a queue operates on a first-in, first-out (FIFO) principle, after performing a dequeue operation, only callers 2 through 8 remain in the queue, with caller 1 being removed because it was the first to be enqueued."
   ]
  },
  {
   "cell_type": "code",
   "execution_count": null,
   "id": "a269a454-5c7c-4030-8fb8-76d5f3286fa8",
   "metadata": {},
   "outputs": [],
   "source": []
  }
 ],
 "metadata": {
  "kernelspec": {
   "display_name": "Python 3 (ipykernel)",
   "language": "python",
   "name": "python3"
  },
  "language_info": {
   "codemirror_mode": {
    "name": "ipython",
    "version": 3
   },
   "file_extension": ".py",
   "mimetype": "text/x-python",
   "name": "python",
   "nbconvert_exporter": "python",
   "pygments_lexer": "ipython3",
   "version": "3.12.4"
  }
 },
 "nbformat": 4,
 "nbformat_minor": 5
}
