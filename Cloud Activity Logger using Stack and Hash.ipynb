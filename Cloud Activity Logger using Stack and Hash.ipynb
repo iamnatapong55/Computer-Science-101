{
 "cells": [
  {
   "cell_type": "markdown",
   "id": "67cd4d97-3471-40aa-8841-2c8014754c6f",
   "metadata": {},
   "source": [
    "# Cloud Activity Logger Using Stack and Hash Map\n",
    "\n",
    "**Problem Statement:** In cloud computing environments, it can be challenging to efficiently log, track, and retrieve the sequence of various operations, such as file uploads, query executions, and data pipelines. Managing these activities in real-time is crucial for maintaining organized workflows and ensuring quick access to relevant information. However, traditional logging methods can be inefficient and slow, especially when dealing with large-scale cloud operations.\n",
    "\n",
    "**Solution Overview:** This project proposes a cloud activity logging system using two fundamental data structures: a Stack and a Hash Map. The Stack will maintain an ordered log of cloud activities in a Last-In, First-Out (LIFO) manner, allowing for easy retrieval of the most recent operations. The Hash Map will store and retrieve detailed information about each operation efficiently, enabling constant time lookups. This combination ensures the system is optimized for real-time operations while remaining simple to implement.\n",
    "\n",
    "Key data structures used:\n",
    "- **Stack**: To keep track of the order of cloud activities (Last-In, First-Out).\n",
    "- **Hash Map**: To store and retrieve detailed information about each operation efficiently (constant time lookups).\n"
   ]
  },
  {
   "cell_type": "code",
   "execution_count": 29,
   "id": "2994576e-2e35-4056-a8d4-d509fcff0627",
   "metadata": {},
   "outputs": [],
   "source": [
    "class CloudActivityLogger:\n",
    "    def __init__(self):\n",
    "        # Stack to track recent activities\n",
    "        self.activity_stack = []\n",
    "        \n",
    "        # Hash map (dictionary) to store operation details\n",
    "        self.activity_details = {}\n",
    "\n",
    "    # Method to log a new activity\n",
    "    def log_activity(self, operation_id, operation_type, result):\n",
    "        # Push the operation type onto the stack\n",
    "        self.activity_stack.append(operation_type)\n",
    "        \n",
    "        # Store the details in the hash map\n",
    "        self.activity_details[operation_id] = {\n",
    "            'operation_type': operation_type,\n",
    "            'result': result\n",
    "        }\n",
    "        print(f\"Activity logged: {operation_type} (ID: {operation_id})\")\n",
    "\n",
    "    # Method to show the last activity\n",
    "    def show_last_activity(self):\n",
    "        if self.activity_stack:\n",
    "            return f\"Last activity: {self.activity_stack[-1]}\"  # Last activity on the stack\n",
    "        return \"No activities logged yet.\"\n",
    "\n",
    "    # Method to get details of a specific operation\n",
    "    def get_operation_details(self, operation_id):\n",
    "        if operation_id in self.activity_details:\n",
    "            details = self.activity_details[operation_id]\n",
    "            return f\"Details for operation {operation_id}: {details}\"\n",
    "        return \"No such operation found.\"\n"
   ]
  },
  {
   "cell_type": "code",
   "execution_count": 31,
   "id": "6e013e25-a624-457d-894a-7bd241a23dc8",
   "metadata": {},
   "outputs": [],
   "source": [
    "# Create an instance of CloudActivityLogger\n",
    "cloud_logger = CloudActivityLogger()"
   ]
  },
  {
   "cell_type": "code",
   "execution_count": 33,
   "id": "d1f4a7a3-48e5-4ed1-861e-338136abf6e8",
   "metadata": {},
   "outputs": [
    {
     "name": "stdout",
     "output_type": "stream",
     "text": [
      "Activity logged: File upload (ID: 1)\n",
      "Activity logged: Query run (ID: 2)\n",
      "Activity logged: Data pipeline executed (ID: 3)\n"
     ]
    }
   ],
   "source": [
    "# Log some cloud operations\n",
    "cloud_logger.log_activity(1, \"File upload\", \"Success\")\n",
    "cloud_logger.log_activity(2, \"Query run\", \"Success\")\n",
    "cloud_logger.log_activity(3, \"Data pipeline executed\", \"Failed\")\n"
   ]
  },
  {
   "cell_type": "code",
   "execution_count": 35,
   "id": "dbd36c8e-bb75-4548-b26f-07f713603755",
   "metadata": {},
   "outputs": [
    {
     "name": "stdout",
     "output_type": "stream",
     "text": [
      "Last activity: Data pipeline executed\n"
     ]
    }
   ],
   "source": [
    "# Show the last activity\n",
    "print(cloud_logger.show_last_activity())"
   ]
  },
  {
   "cell_type": "code",
   "execution_count": 37,
   "id": "8a6b2f3a-f9f7-4468-8574-87c2b56a6aa4",
   "metadata": {},
   "outputs": [
    {
     "name": "stdout",
     "output_type": "stream",
     "text": [
      "Details for operation 2: {'operation_type': 'Query run', 'result': 'Success'}\n"
     ]
    }
   ],
   "source": [
    "# Retrieve details about an operation\n",
    "operation_id = 2\n",
    "print(cloud_logger.get_operation_details(operation_id))"
   ]
  },
  {
   "cell_type": "code",
   "execution_count": 39,
   "id": "c58239d4-9315-4b04-9899-01734dfed850",
   "metadata": {},
   "outputs": [
    {
     "name": "stdout",
     "output_type": "stream",
     "text": [
      "No such operation found.\n"
     ]
    }
   ],
   "source": [
    "# Trying to retrieve details of a non-existing operation\n",
    "print(cloud_logger.get_operation_details(5))"
   ]
  },
  {
   "cell_type": "markdown",
   "id": "a2baa1fe-6824-4ecb-b04b-439e8c746005",
   "metadata": {},
   "source": [
    "## Algorithms and Data Structures Used\n",
    "\n",
    "1. **Logging a New Activity**:\n",
    "   - **Algorithm**: \n",
    "     - Push the operation onto the stack (`append` in Python).\n",
    "     - Insert the operation details into the hash map.\n",
    "   - **Time Complexity**: O(1) for both the stack push and hash map insertion.\n",
    "   \n",
    "2. **Retrieving the Most Recent Activity**:\n",
    "   - **Algorithm**:\n",
    "     - Peek at the top of the stack (`[-1]` in Python).\n",
    "   - **Time Complexity**: O(1) since we access the last element in the stack directly.\n",
    "   \n",
    "3. **Retrieving Details of a Specific Operation**:\n",
    "   - **Algorithm**:\n",
    "     - Look up the operation ID in the hash map.\n",
    "   - **Time Complexity**: O(1) for hash map lookups.\n",
    "\n",
    "These algorithms ensure that our cloud activity logger is efficient and can handle real-time operations in constant time.\n"
   ]
  },
  {
   "cell_type": "markdown",
   "id": "ade634d9-bc64-4fd5-9933-7bb6c1dbe286",
   "metadata": {},
   "source": [
    "## Big-O Analysis of Cloud Activity Logger\n",
    "\n",
    "| Operation                      | Data Structure | Time Complexity |\n",
    "|---------------------------------|----------------|-----------------|\n",
    "| **Log new activity**            | Stack + Hash Map | O(1)          |\n",
    "| **Retrieve last activity**      | Stack          | O(1)          |\n",
    "| **Lookup activity details**     | Hash Map       | O(1)          |\n",
    "\n",
    "### Why these structures?\n",
    "\n",
    "- **Stack (LIFO)**: Ideal for real-time applications where the latest event is the most important.\n",
    "- **Hash Map**: Efficient for fast lookups of detailed information, which is critical in cloud monitoring systems.\n"
   ]
  },
  {
   "cell_type": "markdown",
   "id": "29ee1437-76f2-4baf-b9c3-1a85e58c2c96",
   "metadata": {},
   "source": [
    "## Conclusion\n",
    "\n",
    "In this project, I have demonstrated how to use fundamental data structures like **stack** and **hash map** to efficiently log and retrieve cloud activity data. \n",
    "\n",
    "## Future Enhancements:\n",
    "- **Add real-time monitoring**: Integrate with cloud APIs (like Google Cloud or AWS) to log actual cloud operations.\n",
    "- **Alert system**: Implement an alert system to notify when critical operations (like failures) occur frequently.\n",
    "- **Persistence**: Store logs in a database to maintain a history of operations beyond the session.\n",
    "\n",
    "This system provides a foundation for efficient cloud activity monitoring, demonstrating the power of basic data structures and algorithms in real-world applications.\n"
   ]
  },
  {
   "cell_type": "code",
   "execution_count": null,
   "id": "162957c9-1d01-4e2f-9dbb-4d2c519df03e",
   "metadata": {},
   "outputs": [],
   "source": []
  }
 ],
 "metadata": {
  "kernelspec": {
   "display_name": "Python 3 (ipykernel)",
   "language": "python",
   "name": "python3"
  },
  "language_info": {
   "codemirror_mode": {
    "name": "ipython",
    "version": 3
   },
   "file_extension": ".py",
   "mimetype": "text/x-python",
   "name": "python",
   "nbconvert_exporter": "python",
   "pygments_lexer": "ipython3",
   "version": "3.12.4"
  }
 },
 "nbformat": 4,
 "nbformat_minor": 5
}
